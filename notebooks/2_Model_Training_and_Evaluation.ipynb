version https://git-lfs.github.com/spec/v1
oid sha256:315f01d8af609c70fb684ce55612fa89d34712b8470205f84daf7b7968f07d3f
size 67020
